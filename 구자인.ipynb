{
 "cells": [
  {
   "attachments": {},
   "cell_type": "markdown",
   "metadata": {},
   "source": [
    "## 1번 문제\n",
    "\n",
    "프로그래머스 Lev1. 카드 뭉치 "
   ]
  },
  {
   "cell_type": "code",
   "execution_count": 11,
   "metadata": {},
   "outputs": [
    {
     "name": "stdout",
     "output_type": "stream",
     "text": [
      "Yes\n",
      "No\n"
     ]
    }
   ],
   "source": [
    "def solution1(cards1, cards2, goal):\n",
    "    answer = 'Yes'\n",
    "    \n",
    "    c1, c2 = 0, 0\n",
    "    \n",
    "    for i in range(len(goal)):\n",
    "        if len(cards1) > c1 and cards1[c1] == goal[i]:\n",
    "            c1 += 1\n",
    "        elif len(cards2) > c2 and cards2[c2] == goal[i]:\n",
    "            c2 += 1\n",
    "        else:\n",
    "            answer = 'No'\n",
    "            break\n",
    "             \n",
    "    return answer\n",
    "\n",
    "cards1 = [\"i\", \"drink\", \"water\"]\n",
    "cards2 = [\"want\", \"to\"]\n",
    "goal = [\"i\", \"want\", \"to\", \"drink\", \"water\"]\n",
    "\n",
    "print(solution1(cards1, cards2, goal)) # return Yes\n",
    "\n",
    "cards1 = [\"i\", \"water\", \"drink\"]\n",
    "cards2 = [\"want\", \"to\"]\n",
    "goal = [\"i\", \"want\", \"to\", \"drink\", \"water\"]\n",
    "\n",
    "print(solution1(cards1, cards2, goal)) # return No"
   ]
  },
  {
   "attachments": {},
   "cell_type": "markdown",
   "metadata": {},
   "source": [
    "## 2번 문제\n",
    "\n",
    "프로그래머스 Lev1. 체육복"
   ]
  },
  {
   "cell_type": "code",
   "execution_count": 1,
   "metadata": {},
   "outputs": [
    {
     "name": "stdout",
     "output_type": "stream",
     "text": [
      "5\n",
      "4\n",
      "2\n"
     ]
    }
   ],
   "source": [
    "def solution2(n, lost, reserve):\n",
    "    new_lost = set(lost) - set(reserve)\n",
    "    new_reserve = set(reserve) - set(lost)\n",
    "    for i in new_reserve:\n",
    "        pre = i-1\n",
    "        next = i+1\n",
    "        if pre in new_lost:\n",
    "            new_lost.remove(pre)\n",
    "        elif next in new_lost:\n",
    "            new_lost.remove(next)\n",
    "    return n-len(new_lost)\n",
    "\n",
    "\n",
    "n = 5\n",
    "lost = [2, 4]\n",
    "reserve = [1,3,5]\n",
    "\n",
    "print(solution2(n, lost, reserve)) # return 5\n",
    "\n",
    "\n",
    "n = 5\n",
    "lost = [2, 4]\n",
    "reserve = [3]\n",
    "\n",
    "print(solution2(n, lost, reserve)) # return 4\n",
    "\n",
    "\n",
    "n = 3\n",
    "lost = [3]\n",
    "reserve = [1]\n",
    "\n",
    "print(solution2(n, lost, reserve)) # return 2"
   ]
  }
 ],
 "metadata": {
  "kernelspec": {
   "display_name": "Python 3",
   "language": "python",
   "name": "python3"
  },
  "language_info": {
   "codemirror_mode": {
    "name": "ipython",
    "version": 3
   },
   "file_extension": ".py",
   "mimetype": "text/x-python",
   "name": "python",
   "nbconvert_exporter": "python",
   "pygments_lexer": "ipython3",
   "version": "3.11.1"
  },
  "orig_nbformat": 4,
  "vscode": {
   "interpreter": {
    "hash": "f60cbf8c18769879401481151386e3b3dfff891030c1fdb3726252875c24736a"
   }
  }
 },
 "nbformat": 4,
 "nbformat_minor": 2
}
