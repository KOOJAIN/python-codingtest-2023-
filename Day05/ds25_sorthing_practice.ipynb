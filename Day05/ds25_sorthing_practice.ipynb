{
 "cells": [
  {
   "attachments": {},
   "cell_type": "markdown",
   "metadata": {},
   "source": [
    "### 정렬 고급"
   ]
  },
  {
   "cell_type": "code",
   "execution_count": 11,
   "metadata": {},
   "outputs": [],
   "source": [
    "from tkinter import *\n",
    "\n",
    "window = Tk()\n",
    "window.geometry('500x500')\n",
    "\n",
    "photo = PhotoImage(file='./cup.png')\n",
    "\n",
    "photoAry = []\n",
    "h = photo.height()\n",
    "w = photo.width()\n",
    "# 칼라 이미지를 그레이 이미지로\n",
    "for i in range(h): # 500\n",
    "    for j in range(w): # 500\n",
    "        r, g, b = photo.get(i, j)\n",
    "        value = (r + g + b) // 3\n",
    "        photoAry.append(value)\n",
    "\n",
    "# 그레이 이미지를 흑백 이미지로\n",
    "'''\n",
    "for i in range(len(photoAry)):\n",
    "    if photoAry[i] <= 127:\n",
    "        photoAry[i] = 0\n",
    "    else:\n",
    "        photoAry[i] = 255\n",
    "'''\n",
    "pos = 0\n",
    "for i in range(h):\n",
    "    for j in range(w):\n",
    "        r = g = b = photoAry[pos]\n",
    "        pos += 1\n",
    "        photo.put('#%02X%02X%02X' % (r, g, b), (i, j))\n",
    "\n",
    "paper = Label(window, image=photo)\n",
    "paper.pack(expand=1, anchor=CENTER)\n",
    "\n",
    "window.mainloop()"
   ]
  }
 ],
 "metadata": {
  "kernelspec": {
   "display_name": "Python 3",
   "language": "python",
   "name": "python3"
  },
  "language_info": {
   "codemirror_mode": {
    "name": "ipython",
    "version": 3
   },
   "file_extension": ".py",
   "mimetype": "text/x-python",
   "name": "python",
   "nbconvert_exporter": "python",
   "pygments_lexer": "ipython3",
   "version": "3.11.1"
  },
  "orig_nbformat": 4,
  "vscode": {
   "interpreter": {
    "hash": "f60cbf8c18769879401481151386e3b3dfff891030c1fdb3726252875c24736a"
   }
  }
 },
 "nbformat": 4,
 "nbformat_minor": 2
}
