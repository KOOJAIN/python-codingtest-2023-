{
 "cells": [
  {
   "attachments": {},
   "cell_type": "markdown",
   "metadata": {},
   "source": [
    "### 선택정렬"
   ]
  },
  {
   "attachments": {},
   "cell_type": "markdown",
   "metadata": {},
   "source": [
    "#### 최소값 위치 확인"
   ]
  },
  {
   "cell_type": "code",
   "execution_count": 2,
   "metadata": {},
   "outputs": [],
   "source": [
    "def findMinIdx(ary):\n",
    "    minIdx = 0 #  배열0부터\n",
    "    for i in range(1, len(ary)):\n",
    "        if (ary[minIdx] > ary[i]): # 지정된 값이 배열에 현제값보다 크면\n",
    "            minIdx = i\n",
    "\n",
    "    return minIdx"
   ]
  },
  {
   "cell_type": "code",
   "execution_count": 3,
   "metadata": {},
   "outputs": [
    {
     "name": "stdout",
     "output_type": "stream",
     "text": [
      "2\n"
     ]
    }
   ],
   "source": [
    "tests = [55, 88, 33, 77]\n",
    "print(findMinIdx(tests))"
   ]
  },
  {
   "cell_type": "code",
   "execution_count": 4,
   "metadata": {},
   "outputs": [
    {
     "name": "stdout",
     "output_type": "stream",
     "text": [
      "2\n"
     ]
    }
   ],
   "source": [
    "def findMinIdx2(ary):\n",
    "    minIdx = -1\n",
    "    for i, _ in enumerate(ary):\n",
    "        if ary[minIdx] > ary[i]:\n",
    "            minIdx = i\n",
    "\n",
    "    return minIdx\n",
    "\n",
    "print(findMinIdx2(tests))"
   ]
  },
  {
   "attachments": {},
   "cell_type": "markdown",
   "metadata": {},
   "source": [
    "### 선택정렬 전체"
   ]
  },
  {
   "cell_type": "code",
   "execution_count": 5,
   "metadata": {},
   "outputs": [
    {
     "name": "stdout",
     "output_type": "stream",
     "text": [
      "정렬전 --> [188, 162, 168, 120, 50, 150, 177, 105]\n",
      "정렬 후 --> [50, 105, 120, 150, 162, 168, 177, 188]\n"
     ]
    }
   ],
   "source": [
    "# 변수선언\n",
    "before = [188, 162, 168, 120, 50, 150, 177, 105]\n",
    "after =[]\n",
    "\n",
    "print('정렬전 -->', before)\n",
    "for _ in range(len(before)):\n",
    "    minPos = findMinIdx(before)\n",
    "    after.append(before[minPos])\n",
    "    del(before[minPos]) # 최소값 삭제\n",
    "print('정렬 후 -->', after) \n",
    "\n"
   ]
  },
  {
   "cell_type": "code",
   "execution_count": 22,
   "metadata": {},
   "outputs": [],
   "source": [
    "import random\n",
    "\n",
    "dataBank = []\n",
    "\n",
    "for i in range(0, 10000):\n",
    "    dataBank.append(random.randint(0,10000))"
   ]
  },
  {
   "cell_type": "code",
   "execution_count": null,
   "metadata": {},
   "outputs": [],
   "source": [
    "dataBank"
   ]
  },
  {
   "attachments": {},
   "cell_type": "markdown",
   "metadata": {},
   "source": [
    "#### 개선된 선택정렬\n",
    "\n",
    "배열을 두개만들 필요x, 값 교환 swap 기능 학습"
   ]
  },
  {
   "cell_type": "code",
   "execution_count": 20,
   "metadata": {},
   "outputs": [
    {
     "name": "stdout",
     "output_type": "stream",
     "text": [
      "정렬 전 --> [9, 1, 6, 4]\n",
      "사이클# --> [9, 1, 6, 4]\n",
      "사이클# --> [1, 9, 6, 4]\n",
      "사이클# --> [1, 4, 6, 9]\n",
      "정렬 후 --> [1, 6, 4, 9]\n"
     ]
    }
   ],
   "source": [
    "def selectionSort(ary):\n",
    "    n = len(ary)\n",
    "    for i in range(0, n-1):\n",
    "        minIdx = 1\n",
    "        print('사이클# -->', ary)\n",
    "        for k in range(i+1, n): # 마지막 인덱스 n + 1\n",
    "            if (ary[minIdx]> ary[k]):\n",
    "                minIdx = k\n",
    "    \n",
    "        ary[i], ary[minIdx] = ary[minIdx], ary[i] # 최소값으로 변경\n",
    "        \n",
    "\n",
    "    return ary\n",
    "\n",
    "# 변수\n",
    "dataAry = [9, 1, 6, 4] #[188, 162, 168, 120, 50, 150, 177, 105]\n",
    "\n",
    "print('정렬 전 -->', dataAry)\n",
    "dataAry = selectionSort(dataAry)\n",
    "print('정렬 후 -->', dataAry)\n"
   ]
  },
  {
   "attachments": {},
   "cell_type": "markdown",
   "metadata": {},
   "source": [
    "### 삽입정렬 Insertion Sort\n",
    "\n",
    "#### 자신의 삽입 위치를 찾는 함수"
   ]
  },
  {
   "cell_type": "code",
   "execution_count": 7,
   "metadata": {},
   "outputs": [],
   "source": [
    "def findInsertIdx(ary, data):\n",
    "    findIdx = -1\n",
    "    for i in range(0, len(ary)):\n",
    "        if ary[i] > data:\n",
    "            findIdsx = i\n",
    "            break\n",
    "    if findIdx == -1:\n",
    "        return len(ary)\n",
    "    else:\n",
    "        return findIdx\n"
   ]
  },
  {
   "cell_type": "code",
   "execution_count": 8,
   "metadata": {},
   "outputs": [
    {
     "name": "stdout",
     "output_type": "stream",
     "text": [
      "50 이 들어갈 위치 0\n",
      "55가 들어갈 위치 4\n"
     ]
    }
   ],
   "source": [
    "testAry = []\n",
    "print('50 이 들어갈 위치', findInsertIdx(testAry, 50))\n",
    "testAry = [33, 60, 54, 88]\n",
    "print('55가 들어갈 위치', findInsertIdx(testAry, 55))"
   ]
  },
  {
   "cell_type": "code",
   "execution_count": 9,
   "metadata": {},
   "outputs": [
    {
     "name": "stdout",
     "output_type": "stream",
     "text": [
      "정렬 전 --> [188, 162, 168, 120, 50, 150, 177, 105]\n",
      "정렬 후 --> [188, 162, 168, 120, 50, 150, 177, 105]\n",
      "원본 --> [188, 162, 168, 120, 50, 150, 177, 105]\n"
     ]
    }
   ],
   "source": [
    "before = [188, 162, 168, 120, 50, 150, 177, 105]\n",
    "after =[]\n",
    "\n",
    "print('정렬 전 -->', before)\n",
    "for i in range(len(before)):\n",
    "    data = before[i]\n",
    "    idx = findInsertIdx(after, data)\n",
    "    after.insert(idx, data)\n",
    "print('정렬 후 -->', after)\n",
    "print('원본 -->', before)"
   ]
  },
  {
   "attachments": {},
   "cell_type": "markdown",
   "metadata": {},
   "source": [
    "### 삽입정렬 개선"
   ]
  },
  {
   "cell_type": "code",
   "execution_count": null,
   "metadata": {},
   "outputs": [],
   "source": [
    "def BubbleSort(ary):\n",
    "    n = len(ary)\n",
    "    for end in range(1, n): # 앞의 값 하나 빼고 끝까지 반복\n",
    "        for cur in range(end, 0, -1):\n",
    "            if(ary[cur-1] > ary[cur]):\n",
    "                ary[cur-1], ary[cur] = ary[cur], ary[cur-1] # 파이썬 swap!!\n",
    "\n",
    "    return ary\n",
    "    \n",
    "before = [188, 162, 168, 120, 50, 150, 177, 105]\n",
    "\n",
    "print('정렬 전 -->', dataAry)\n",
    "dataBank = BubbleSort(dataBank)\n",
    "print('정렬 후 -->', dataBank)\n",
    "\n"
   ]
  },
  {
   "attachments": {},
   "cell_type": "markdown",
   "metadata": {},
   "source": [
    "### 버블 정렬(Bubble Sort)"
   ]
  },
  {
   "cell_type": "code",
   "execution_count": 5,
   "metadata": {},
   "outputs": [
    {
     "name": "stdout",
     "output_type": "stream",
     "text": [
      "정렬전 ---> [190, 162, 168, 120, 20, 150, 177, 105]\n",
      "정렬 후--> [162, 190, 168, 120, 20, 150, 177, 105]\n"
     ]
    }
   ],
   "source": [
    "def BubleSort(ary):\n",
    "    n = len(ary)\n",
    "    for end in range(n-1, 0 , -1): # n-1 번째 부터 0까지 역순\n",
    "        for cur in range(0, end): # 0부터 n-2까지 반복\n",
    "            if ary[cur] > ary[cur+1]:\n",
    "                ary[cur], ary[cur+1]= ary[cur+1],ary[cur]\n",
    "                return ary\n",
    "            \n",
    "dataAry = [190, 162, 168, 120, 20, 150, 177,105]\n",
    "\n",
    "print('정렬전 -->', dataAry)\n",
    "dataAry = BubleSort(dataAry)\n",
    "print('정렬 후-->',dataAry)"
   ]
  },
  {
   "attachments": {},
   "cell_type": "markdown",
   "metadata": {},
   "source": [
    "### 큌 정렬(Quick Sort)"
   ]
  },
  {
   "cell_type": "code",
   "execution_count": 11,
   "metadata": {},
   "outputs": [
    {
     "name": "stdout",
     "output_type": "stream",
     "text": [
      "정렬전 --> [190, 20, 162, 168, 120, 20, 150, 177, 105, 120]\n",
      "정렬 후--> [20, 20, 105, 120, 120, 150, 162, 168, 177, 190]\n"
     ]
    }
   ],
   "source": [
    "def quickSort(ary):\n",
    "    n = len(ary)\n",
    "    if n <= 1:   # 정렬갯수가 1개 이하면\n",
    "        return ary\n",
    "\n",
    "    pivot = ary[n // 2] # 중간값을 기준값으로\n",
    "    leftAry, rightAry, midAry = [], [], []\n",
    "\n",
    "    for num in ary: \n",
    "        if num < pivot:\n",
    "            leftAry.append(num)\n",
    "        elif num > pivot:\n",
    "            rightAry.append(num)\n",
    "        else:\n",
    "            midAry.append(num) # 중복을 고려\n",
    "    return quickSort(leftAry) + midAry + quickSort(rightAry)\n",
    "\n",
    "dataAry = [190, 20, 162, 168, 120, 20, 150, 177, 105, 120]\n",
    "\n",
    "print('정렬전 -->', dataAry)\n",
    "dataAry = quickSort(dataAry)\n",
    "print('정렬 후-->',dataAry)"
   ]
  },
  {
   "attachments": {},
   "cell_type": "markdown",
   "metadata": {},
   "source": [
    "### 리스트 정렬"
   ]
  },
  {
   "cell_type": "code",
   "execution_count": 29,
   "metadata": {},
   "outputs": [],
   "source": [
    "import random\n",
    "\n",
    "dataBank = []\n",
    "\n",
    "for i in range(0, 10000):\n",
    "    dataBank.append(random.randint(0,10000))"
   ]
  },
  {
   "cell_type": "code",
   "execution_count": 31,
   "metadata": {},
   "outputs": [],
   "source": [
    "dataBank.sort() # 오름차순 정렬\n",
    "dataBank.sort(reverse=True) # 내림차순"
   ]
  },
  {
   "cell_type": "code",
   "execution_count": 34,
   "metadata": {},
   "outputs": [],
   "source": [
    "values = sorted(dataBank, reverse=False)"
   ]
  }
 ],
 "metadata": {
  "kernelspec": {
   "display_name": "Python 3",
   "language": "python",
   "name": "python3"
  },
  "language_info": {
   "codemirror_mode": {
    "name": "ipython",
    "version": 3
   },
   "file_extension": ".py",
   "mimetype": "text/x-python",
   "name": "python",
   "nbconvert_exporter": "python",
   "pygments_lexer": "ipython3",
   "version": "3.11.1"
  },
  "orig_nbformat": 4,
  "vscode": {
   "interpreter": {
    "hash": "f60cbf8c18769879401481151386e3b3dfff891030c1fdb3726252875c24736a"
   }
  }
 },
 "nbformat": 4,
 "nbformat_minor": 2
}
